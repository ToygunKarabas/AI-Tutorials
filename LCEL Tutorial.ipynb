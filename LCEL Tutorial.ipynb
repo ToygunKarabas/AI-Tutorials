{
 "cells": [
  {
   "cell_type": "code",
   "execution_count": 27,
   "metadata": {},
   "outputs": [],
   "source": [
    "from langchain_openai import ChatOpenAI\n",
    "from langchain_groq import ChatGroq\n",
    "from langchain_ollama import ChatOllama\n",
    "\n",
    "from langchain_core.prompts import PromptTemplate, ChatPromptTemplate, MessagesPlaceholder\n",
    "from langchain_core.messages import AIMessage, HumanMessage, SystemMessage\n",
    "\n",
    "from langchain_core.runnables import RunnableLambda, RunnableParallel, RunnablePassthrough"
   ]
  },
  {
   "cell_type": "code",
   "execution_count": 3,
   "metadata": {},
   "outputs": [],
   "source": [
    "llm = ChatOllama(model=\"llama3.1:latest\",\n",
    "                 temperature=0.7,\n",
    "                 format=\"\")"
   ]
  },
  {
   "cell_type": "code",
   "execution_count": 4,
   "metadata": {},
   "outputs": [],
   "source": [
    "template=\"\"\"Give me small report about {topic}\"\"\"\n",
    "\n",
    "prompt_template=PromptTemplate.from_template(template)\n",
    "\n",
    "llm_chain = prompt_template | llm\n",
    "\n",
    "response = llm_chain.invoke({\"topic\": \"Artificial Intelligence\"})"
   ]
  },
  {
   "cell_type": "code",
   "execution_count": 5,
   "metadata": {},
   "outputs": [
    {
     "data": {
      "text/plain": [
       "AIMessage(content=\"Here's a brief report on Artificial Intelligence:\\n\\n**Overview**\\n\\nArtificial Intelligence (AI) refers to the development of computer systems that can perform tasks that typically require human intelligence, such as visual perception, speech recognition, decision-making, and problem-solving. AI has been around for decades, but recent advances in machine learning algorithms and data storage have made it increasingly powerful.\\n\\n**Key Features**\\n\\n* **Machine Learning**: AI systems use complex algorithms to learn from data and improve their performance over time.\\n* **Natural Language Processing**: AI can understand and generate human language, enabling applications like chatbots and voice assistants.\\n* **Computer Vision**: AI can interpret and understand visual information from images and videos.\\n* **Robotics**: AI is used in robotics to control and navigate robots that interact with physical environments.\\n\\n**Applications**\\n\\n* **Virtual Assistants**: AI-powered virtual assistants like Siri, Google Assistant, and Alexa have revolutionized the way we interact with technology.\\n* **Image Recognition**: AI-based image recognition has numerous applications in security, healthcare, and entertainment.\\n* **Self-Driving Cars**: Autonomous vehicles rely on AI to navigate roads and avoid obstacles.\\n* **Predictive Maintenance**: AI-powered predictive maintenance helps industries like manufacturing and healthcare anticipate equipment failures.\\n\\n**Challenges**\\n\\n* **Bias and Fairness**: AI systems can perpetuate biases present in the data used to train them, leading to unfair outcomes.\\n* **Explainability**: As AI becomes more complex, it's increasingly difficult to understand how decisions are made.\\n* **Job Displacement**: The automation of routine tasks has raised concerns about job displacement and economic disruption.\\n\\n**Future Outlook**\\n\\nAI is expected to continue transforming industries and improving lives. While there are challenges to be addressed, the benefits of AI in areas like healthcare, education, and transportation promise to be significant. As AI becomes more integrated into daily life, we can expect to see even more innovative applications emerge.\", response_metadata={'model': 'llama3.1:latest', 'created_at': '2024-07-25T17:46:02.016745Z', 'message': {'role': 'assistant', 'content': ''}, 'done_reason': 'stop', 'done': True, 'total_duration': 6836633875, 'load_duration': 28566333, 'prompt_eval_count': 17, 'prompt_eval_duration': 219291000, 'eval_count': 386, 'eval_duration': 6587842000}, id='run-fb85b410-eb0c-46be-9635-1ea22d70734d-0', usage_metadata={'input_tokens': 17, 'output_tokens': 386, 'total_tokens': 403})"
      ]
     },
     "execution_count": 5,
     "metadata": {},
     "output_type": "execute_result"
    }
   ],
   "source": [
    "response"
   ]
  },
  {
   "cell_type": "code",
   "execution_count": 11,
   "metadata": {},
   "outputs": [
    {
     "data": {
      "text/plain": [
       "'Give me small report about AI'"
      ]
     },
     "execution_count": 11,
     "metadata": {},
     "output_type": "execute_result"
    }
   ],
   "source": [
    "\"Give me small report about {topic}\".format(topic=\"Artificial Intelligence\")  "
   ]
  },
  {
   "cell_type": "code",
   "execution_count": 6,
   "metadata": {},
   "outputs": [
    {
     "name": "stdout",
     "output_type": "stream",
     "text": [
      "<class 'langchain_core.messages.ai.AIMessage'>\n",
      "\n",
      "==============\n",
      "\n",
      "{'model': 'llama3.1:latest', 'created_at': '2024-07-25T17:46:02.016745Z', 'message': {'role': 'assistant', 'content': ''}, 'done_reason': 'stop', 'done': True, 'total_duration': 6836633875, 'load_duration': 28566333, 'prompt_eval_count': 17, 'prompt_eval_duration': 219291000, 'eval_count': 386, 'eval_duration': 6587842000}\n",
      "\n",
      "==============\n",
      "\n",
      "{'input_tokens': 17, 'output_tokens': 386, 'total_tokens': 403}\n",
      "\n",
      "==============\n",
      "\n",
      "Here's a brief report on Artificial Intelligence:\n",
      "\n",
      "**Overview**\n",
      "\n",
      "Artificial Intelligence (AI) refers to the development of computer systems that can perform tasks that typically require human intelligence, such as visual perception, speech recognition, decision-making, and problem-solving. AI has been around for decades, but recent advances in machine learning algorithms and data storage have made it increasingly powerful.\n",
      "\n",
      "**Key Features**\n",
      "\n",
      "* **Machine Learning**: AI systems use complex algorithms to learn from data and improve their performance over time.\n",
      "* **Natural Language Processing**: AI can understand and generate human language, enabling applications like chatbots and voice assistants.\n",
      "* **Computer Vision**: AI can interpret and understand visual information from images and videos.\n",
      "* **Robotics**: AI is used in robotics to control and navigate robots that interact with physical environments.\n",
      "\n",
      "**Applications**\n",
      "\n",
      "* **Virtual Assistants**: AI-powered virtual assistants like Siri, Google Assistant, and Alexa have revolutionized the way we interact with technology.\n",
      "* **Image Recognition**: AI-based image recognition has numerous applications in security, healthcare, and entertainment.\n",
      "* **Self-Driving Cars**: Autonomous vehicles rely on AI to navigate roads and avoid obstacles.\n",
      "* **Predictive Maintenance**: AI-powered predictive maintenance helps industries like manufacturing and healthcare anticipate equipment failures.\n",
      "\n",
      "**Challenges**\n",
      "\n",
      "* **Bias and Fairness**: AI systems can perpetuate biases present in the data used to train them, leading to unfair outcomes.\n",
      "* **Explainability**: As AI becomes more complex, it's increasingly difficult to understand how decisions are made.\n",
      "* **Job Displacement**: The automation of routine tasks has raised concerns about job displacement and economic disruption.\n",
      "\n",
      "**Future Outlook**\n",
      "\n",
      "AI is expected to continue transforming industries and improving lives. While there are challenges to be addressed, the benefits of AI in areas like healthcare, education, and transportation promise to be significant. As AI becomes more integrated into daily life, we can expect to see even more innovative applications emerge.\n"
     ]
    }
   ],
   "source": [
    "print(type(response))\n",
    "print(\"\\n==============\\n\")\n",
    "print(response.response_metadata)\n",
    "print(\"\\n==============\\n\")\n",
    "print(response.usage_metadata)\n",
    "print(\"\\n==============\\n\")\n",
    "print(response.content)"
   ]
  },
  {
   "cell_type": "code",
   "execution_count": 7,
   "metadata": {},
   "outputs": [
    {
     "name": "stdout",
     "output_type": "stream",
     "text": [
      "================================\u001b[1m System Message \u001b[0m================================\n",
      "\n",
      "Answer the user prompt below using the chat history provided below.\n",
      "\n",
      "=============================\u001b[1m Messages Placeholder \u001b[0m=============================\n",
      "\n",
      "\u001b[33;1m\u001b[1;3m{chat_history}\u001b[0m\n",
      "\n",
      "================================\u001b[1m Human Message \u001b[0m=================================\n",
      "\n",
      "\u001b[33;1m\u001b[1;3m{user_prompt}\u001b[0m\n"
     ]
    }
   ],
   "source": [
    "previous_ai_message = response.content\n",
    "\n",
    "messages = [HumanMessage(\"Give me small report about Artificial Intelligence\"),\n",
    "            AIMessage(previous_ai_message)]\n",
    "\n",
    "system_template = \"\"\"Answer the user prompt below using the chat history provided below.\"\"\"\n",
    "\n",
    "prompt_template = ChatPromptTemplate.from_messages(\n",
    "    [\n",
    "        (\"system\", system_template),\n",
    "        MessagesPlaceholder(variable_name=\"chat_history\"),\n",
    "        (\"user\", \"{user_prompt}\")\n",
    "    ]\n",
    ")\n",
    "\n",
    "prompt_template.pretty_print()"
   ]
  },
  {
   "cell_type": "code",
   "execution_count": 8,
   "metadata": {},
   "outputs": [
    {
     "name": "stdout",
     "output_type": "stream",
     "text": [
      "<class 'langchain_core.prompt_values.ChatPromptValue'>\n",
      "\n",
      "==============\n",
      "\n",
      "[SystemMessage(content='Answer the user prompt below using the chat history provided below.'), HumanMessage(content='Give me small report about Artificial Intelligence'), AIMessage(content=\"Here's a brief report on Artificial Intelligence:\\n\\n**Overview**\\n\\nArtificial Intelligence (AI) refers to the development of computer systems that can perform tasks that typically require human intelligence, such as visual perception, speech recognition, decision-making, and problem-solving. AI has been around for decades, but recent advances in machine learning algorithms and data storage have made it increasingly powerful.\\n\\n**Key Features**\\n\\n* **Machine Learning**: AI systems use complex algorithms to learn from data and improve their performance over time.\\n* **Natural Language Processing**: AI can understand and generate human language, enabling applications like chatbots and voice assistants.\\n* **Computer Vision**: AI can interpret and understand visual information from images and videos.\\n* **Robotics**: AI is used in robotics to control and navigate robots that interact with physical environments.\\n\\n**Applications**\\n\\n* **Virtual Assistants**: AI-powered virtual assistants like Siri, Google Assistant, and Alexa have revolutionized the way we interact with technology.\\n* **Image Recognition**: AI-based image recognition has numerous applications in security, healthcare, and entertainment.\\n* **Self-Driving Cars**: Autonomous vehicles rely on AI to navigate roads and avoid obstacles.\\n* **Predictive Maintenance**: AI-powered predictive maintenance helps industries like manufacturing and healthcare anticipate equipment failures.\\n\\n**Challenges**\\n\\n* **Bias and Fairness**: AI systems can perpetuate biases present in the data used to train them, leading to unfair outcomes.\\n* **Explainability**: As AI becomes more complex, it's increasingly difficult to understand how decisions are made.\\n* **Job Displacement**: The automation of routine tasks has raised concerns about job displacement and economic disruption.\\n\\n**Future Outlook**\\n\\nAI is expected to continue transforming industries and improving lives. While there are challenges to be addressed, the benefits of AI in areas like healthcare, education, and transportation promise to be significant. As AI becomes more integrated into daily life, we can expect to see even more innovative applications emerge.\"), HumanMessage(content='what was your first sentence in your previous response.')]\n"
     ]
    }
   ],
   "source": [
    "prompt_value = prompt_template.invoke({\"user_prompt\": \"what was your first sentence in your previous response.\",\n",
    "                                       \"chat_history\": messages})\n",
    "\n",
    "print(type(prompt_value))\n",
    "print(\"\\n==============\\n\")\n",
    "print(prompt_value.messages)"
   ]
  },
  {
   "cell_type": "code",
   "execution_count": 9,
   "metadata": {},
   "outputs": [
    {
     "name": "stdout",
     "output_type": "stream",
     "text": [
      "My first sentence in my previous response was:\n",
      "\n",
      "\"Here's a brief report on Artificial Intelligence:\"\n"
     ]
    }
   ],
   "source": [
    "llm_chain = prompt_template | llm\n",
    "\n",
    "response = llm_chain.invoke({\"user_prompt\": \"what was your first sentence in your previous response.\",\n",
    "                            \"chat_history\": messages})\n",
    "\n",
    "print(response.content)"
   ]
  },
  {
   "cell_type": "markdown",
   "metadata": {},
   "source": [
    "## RunnableLambda & RunnableParallel & RunnablePassThrough"
   ]
  },
  {
   "cell_type": "code",
   "execution_count": 25,
   "metadata": {},
   "outputs": [
    {
     "name": "stdout",
     "output_type": "stream",
     "text": [
      "++START++\n",
      "Here's a brief report on Artificial Intelligence:\n",
      "\n",
      "**Introduction**\n",
      "\n",
      "Artificial Intelligence (AI) refers to the development of computer systems that can perform tasks that typically require human intelligence, such as learning, problem-solving, and decision-making. AI has been rapidly evolving over the past few decades and has become an essential part of our daily lives.\n",
      "\n",
      "**History**\n",
      "\n",
      "The concept of AI dates back to ancient civilizations, but the modern era of AI began in the 1950s with the development of the first computer programs that could simulate human thought processes. The Dartmouth Summer Research Project on Artificial Intelligence in 1956 is considered a significant milestone in the history of AI.\n",
      "\n",
      "**Key Aspects**\n",
      "\n",
      "There are several key aspects of AI:\n",
      "\n",
      "1. **Machine Learning**: This involves training algorithms to learn from data and improve their performance over time.\n",
      "2. **Natural Language Processing (NLP)**: This enables computers to understand, interpret, and generate human language.\n",
      "3. **Computer Vision**: This allows computers to interpret and understand visual information from images and videos.\n",
      "\n",
      "**Applications**\n",
      "\n",
      "AI has a wide range of applications across various industries, including:\n",
      "\n",
      "1. **Healthcare**: AI can help diagnose diseases, develop personalized treatment plans, and streamline medical research.\n",
      "2. **Finance**: AI can analyze vast amounts of financial data to predict market trends, detect fraud, and optimize investment portfolios.\n",
      "3. **Transportation**: AI can improve traffic flow, predict traffic patterns, and enable self-driving cars.\n",
      "\n",
      "**Benefits**\n",
      "\n",
      "The benefits of AI include:\n",
      "\n",
      "1. **Increased Efficiency**: AI can automate repetitive tasks, freeing up human resources for more complex and creative work.\n",
      "2. **Improved Accuracy**: AI can analyze vast amounts of data to make accurate predictions and decisions.\n",
      "3. **Enhanced Customer Experience**: AI can provide personalized customer service, improve product recommendations, and optimize supply chains.\n",
      "\n",
      "**Challenges**\n",
      "\n",
      "Despite its many benefits, AI also raises several challenges, including:\n",
      "\n",
      "1. **Job Displacement**: AI may displace certain jobs, particularly those that involve repetitive or routine tasks.\n",
      "2. **Bias and Fairness**: AI systems can perpetuate existing biases and inequalities if they are trained on biased data.\n",
      "3. **Security Risks**: AI systems can be vulnerable to cyber attacks and other security threats.\n",
      "\n",
      "**Conclusion**\n",
      "\n",
      "Artificial Intelligence has the potential to revolutionize many industries and improve our daily lives in numerous ways. However, it also raises important challenges that must be addressed through careful consideration of its benefits and drawbacks.\n",
      "++END++\n"
     ]
    }
   ],
   "source": [
    "def change_response(res):\n",
    "    return \"++START++\\n\" + res.content + \"\\n++END++\"\n",
    "\n",
    "change_response_func = RunnableLambda(change_response)\n",
    "\n",
    "\n",
    "template=\"\"\"Give me small report about {topic}\"\"\"\n",
    "\n",
    "prompt_template=PromptTemplate.from_template(template)\n",
    "\n",
    "llm_chain = prompt_template | llm | change_response_func\n",
    "\n",
    "response = llm_chain.invoke({\"topic\": \"Artificial Intelligence\"})\n",
    "\n",
    "print(response)"
   ]
  },
  {
   "cell_type": "code",
   "execution_count": 31,
   "metadata": {},
   "outputs": [
    {
     "name": "stdout",
     "output_type": "stream",
     "text": [
      "Here's a sentence using all three words:\n",
      "\n",
      "The lion, famished from its long hunt, devoured its prey with great relish, savoring the taste of fresh meat and the rich, crimson blood that still pulsed within its lifeless body.\n"
     ]
    }
   ],
   "source": [
    "def get_animal(a):\n",
    "    return \"lion\"\n",
    "\n",
    "def get_random_word(b):\n",
    "    return \"meat\"\n",
    "\n",
    "change_response_func = RunnableLambda(change_response)\n",
    "\n",
    "\n",
    "template=\"\"\"Use given words in one sentence: {animal} and {random_word}. Also consider the word provided by user: {user_prompt}\"\"\"\n",
    "\n",
    "prompt_template=PromptTemplate.from_template(template)\n",
    "\n",
    "retrieval = RunnableParallel(\n",
    "    {\n",
    "        \"animal\": RunnableLambda(get_animal), \"random_word\": RunnableLambda(get_random_word),\n",
    "        \"user_prompt\": RunnablePassthrough()\n",
    "    }\n",
    ")\n",
    "\n",
    "llm_chain = retrieval | prompt_template | llm\n",
    "\n",
    "response = llm_chain.invoke(\"blood\")\n",
    "\n",
    "print(response.content)"
   ]
  },
  {
   "cell_type": "markdown",
   "metadata": {},
   "source": [
    "## RAG Pipeline"
   ]
  },
  {
   "cell_type": "code",
   "execution_count": null,
   "metadata": {},
   "outputs": [],
   "source": []
  },
  {
   "cell_type": "code",
   "execution_count": null,
   "metadata": {},
   "outputs": [],
   "source": []
  },
  {
   "cell_type": "code",
   "execution_count": null,
   "metadata": {},
   "outputs": [],
   "source": []
  },
  {
   "cell_type": "markdown",
   "metadata": {},
   "source": [
    "# Summarization Pipeline"
   ]
  },
  {
   "cell_type": "code",
   "execution_count": null,
   "metadata": {},
   "outputs": [],
   "source": []
  },
  {
   "cell_type": "code",
   "execution_count": null,
   "metadata": {},
   "outputs": [],
   "source": []
  },
  {
   "cell_type": "code",
   "execution_count": null,
   "metadata": {},
   "outputs": [],
   "source": []
  },
  {
   "cell_type": "markdown",
   "metadata": {},
   "source": [
    "# Tool/Function Calling"
   ]
  },
  {
   "cell_type": "code",
   "execution_count": null,
   "metadata": {},
   "outputs": [],
   "source": []
  },
  {
   "cell_type": "code",
   "execution_count": null,
   "metadata": {},
   "outputs": [],
   "source": []
  },
  {
   "cell_type": "code",
   "execution_count": null,
   "metadata": {},
   "outputs": [],
   "source": []
  }
 ],
 "metadata": {
  "kernelspec": {
   "display_name": "tutorial_env",
   "language": "python",
   "name": "python3"
  },
  "language_info": {
   "codemirror_mode": {
    "name": "ipython",
    "version": 3
   },
   "file_extension": ".py",
   "mimetype": "text/x-python",
   "name": "python",
   "nbconvert_exporter": "python",
   "pygments_lexer": "ipython3",
   "version": "3.10.13"
  }
 },
 "nbformat": 4,
 "nbformat_minor": 2
}
